{
  "nbformat": 4,
  "nbformat_minor": 0,
  "metadata": {
    "colab": {
      "provenance": []
    },
    "kernelspec": {
      "name": "python3",
      "display_name": "Python 3"
    },
    "language_info": {
      "name": "python"
    }
  },
  "cells": [
    {
      "cell_type": "code",
      "execution_count": 183,
      "metadata": {
        "id": "9zPjgW1RJEr_"
      },
      "outputs": [],
      "source": [
        "import torch\n",
        "import torchvision\n",
        "from torchvision.datasets import MNIST"
      ]
    },
    {
      "cell_type": "code",
      "source": [
        "# Download training dataset\n",
        "dataset = MNIST(root='data/', download=True)"
      ],
      "metadata": {
        "id": "mVsJCMmkJJsr"
      },
      "execution_count": 184,
      "outputs": []
    },
    {
      "cell_type": "code",
      "source": [
        "dataset"
      ],
      "metadata": {
        "colab": {
          "base_uri": "https://localhost:8080/"
        },
        "id": "o08kgWtAJMYd",
        "outputId": "fcc675c3-f705-425d-9041-1d60a4cbaff7"
      },
      "execution_count": 185,
      "outputs": [
        {
          "output_type": "execute_result",
          "data": {
            "text/plain": [
              "Dataset MNIST\n",
              "    Number of datapoints: 60000\n",
              "    Root location: data/\n",
              "    Split: Train"
            ]
          },
          "metadata": {},
          "execution_count": 185
        }
      ]
    },
    {
      "cell_type": "code",
      "source": [
        "test_dataset = MNIST(root='data/', train=False)\n",
        "test_dataset"
      ],
      "metadata": {
        "colab": {
          "base_uri": "https://localhost:8080/"
        },
        "id": "qj-h_Sj9JURp",
        "outputId": "d3a24136-e0cc-4cea-d496-38a8c000439f"
      },
      "execution_count": 186,
      "outputs": [
        {
          "output_type": "execute_result",
          "data": {
            "text/plain": [
              "Dataset MNIST\n",
              "    Number of datapoints: 10000\n",
              "    Root location: data/\n",
              "    Split: Test"
            ]
          },
          "metadata": {},
          "execution_count": 186
        }
      ]
    },
    {
      "cell_type": "code",
      "source": [
        "import matplotlib.pyplot as plt\n",
        "%matplotlib inline"
      ],
      "metadata": {
        "id": "iFKLCSruMlI1"
      },
      "execution_count": 187,
      "outputs": []
    },
    {
      "cell_type": "code",
      "source": [
        "image, label = dataset[1]\n",
        "plt.imshow(image, cmap='gray')\n",
        "print('Label:', label)"
      ],
      "metadata": {
        "colab": {
          "base_uri": "https://localhost:8080/",
          "height": 447
        },
        "id": "H3gSYWVfMr92",
        "outputId": "a5ca13ef-60e4-435b-cd3e-967c6b00ac0f"
      },
      "execution_count": 188,
      "outputs": [
        {
          "output_type": "stream",
          "name": "stdout",
          "text": [
            "Label: 0\n"
          ]
        },
        {
          "output_type": "display_data",
          "data": {
            "text/plain": [
              "<Figure size 640x480 with 1 Axes>"
            ],
            "image/png": "[encoded data removed]"
          },
          "metadata": {}
        }
      ]
    },
    {
      "cell_type": "code",
      "source": [
        "image, label = dataset[7]\n",
        "plt.imshow(image, cmap='gray')\n",
        "print('Label:', label)"
      ],
      "metadata": {
        "colab": {
          "base_uri": "https://localhost:8080/",
          "height": 447
        },
        "id": "r9GeF1NFMukt",
        "outputId": "6553f592-f491-47d4-c6a8-5138f9922298"
      },
      "execution_count": 189,
      "outputs": [
        {
          "output_type": "stream",
          "name": "stdout",
          "text": [
            "Label: 3\n"
          ]
        },
        {
          "output_type": "display_data",
          "data": {
            "text/plain": [
              "<Figure size 640x480 with 1 Axes>"
            ],
            "image/png": "[encoded data removed]"
          },
          "metadata": {}
        }
      ]
    },
    {
      "cell_type": "code",
      "source": [
        "image, label = dataset[-1]\n",
        "plt.imshow(image, cmap='gray')\n",
        "print('Label:', label)"
      ],
      "metadata": {
        "colab": {
          "base_uri": "https://localhost:8080/",
          "height": 447
        },
        "id": "jAQeQPmcM6Oc",
        "outputId": "13fede11-0549-4f6a-fd64-5926d5db18d8"
      },
      "execution_count": 190,
      "outputs": [
        {
          "output_type": "stream",
          "name": "stdout",
          "text": [
            "Label: 8\n"
          ]
        },
        {
          "output_type": "display_data",
          "data": {
            "text/plain": [
              "<Figure size 640x480 with 1 Axes>"
            ],
            "image/png": "[encoded data removed]"
          },
          "metadata": {}
        }
      ]
    },
    {
      "cell_type": "code",
      "source": [
        "import torchvision.transforms as transforms"
      ],
      "metadata": {
        "id": "y4Ej3SIxM88M"
      },
      "execution_count": 191,
      "outputs": []
    },
    {
      "cell_type": "code",
      "source": [
        "# MNIST dataset (Images converted into Pytorch Tensors)\n",
        "dataset = MNIST(root='data/',\n",
        "                train=True,\n",
        "                transform=transforms.ToTensor())"
      ],
      "metadata": {
        "id": "1mdJl_YtNc6C"
      },
      "execution_count": 192,
      "outputs": []
    },
    {
      "cell_type": "code",
      "source": [
        "img_tensor, label = dataset[0]\n",
        "print(img_tensor.shape, label)"
      ],
      "metadata": {
        "colab": {
          "base_uri": "https://localhost:8080/"
        },
        "id": "CJHsLcr3NEN1",
        "outputId": "c5f371bd-2e4c-4070-85de-042bd74065d6"
      },
      "execution_count": 193,
      "outputs": [
        {
          "output_type": "stream",
          "name": "stdout",
          "text": [
            "torch.Size([1, 28, 28]) 5\n"
          ]
        }
      ]
    },
    {
      "cell_type": "markdown",
      "source": [
        "## Training and Validation"
      ],
      "metadata": {
        "id": "b4aXTsuyN2hR"
      }
    },
    {
      "cell_type": "code",
      "source": [
        "from torch.utils.data import random_split\n",
        "\n",
        "train_ds, val_ds = random_split(dataset, [50000, 10000])\n",
        "len(train_ds), len(val_ds)"
      ],
      "metadata": {
        "colab": {
          "base_uri": "https://localhost:8080/"
        },
        "id": "B1izgVybNtPg",
        "outputId": "f15f7a97-881e-473f-d395-0e328b305b16"
      },
      "execution_count": 194,
      "outputs": [
        {
          "output_type": "execute_result",
          "data": {
            "text/plain": [
              "(50000, 10000)"
            ]
          },
          "metadata": {},
          "execution_count": 194
        }
      ]
    },
    {
      "cell_type": "code",
      "source": [
        "from torch.utils.data import DataLoader\n",
        "\n",
        "batch_size = 128\n",
        "\n",
        "train_loader = DataLoader(train_ds, batch_size, shuffle=True)\n",
        "val_loader = DataLoader(val_ds, batch_size)"
      ],
      "metadata": {
        "id": "Hmy-NkhDN-yl"
      },
      "execution_count": 195,
      "outputs": []
    },
    {
      "cell_type": "code",
      "source": [
        "import torch.nn as nn\n",
        "import torch.nn.functional as F"
      ],
      "metadata": {
        "id": "Fj9x4ACbQgMT"
      },
      "execution_count": 196,
      "outputs": []
    },
    {
      "cell_type": "code",
      "source": [
        "input_size = 28*28\n",
        "num_classes = 10"
      ],
      "metadata": {
        "id": "ewztM0GOOFRb"
      },
      "execution_count": 197,
      "outputs": []
    },
    {
      "cell_type": "markdown",
      "source": [
        "## Training the Model"
      ],
      "metadata": {
        "id": "j2kHvlHRSDdX"
      }
    },
    {
      "cell_type": "code",
      "source": [
        "def accuracy(outputs, labels):\n",
        "    _, preds = torch.max(outputs, dim=1)\n",
        "    return torch.tensor(torch.sum(preds == labels).item() / len(preds))"
      ],
      "metadata": {
        "id": "ZDxDIH2bRno_"
      },
      "execution_count": 198,
      "outputs": []
    },
    {
      "cell_type": "code",
      "source": [
        "def fit(epochs, lr, model, train_loader, val_loader, opt_func=torch.optim.SGD):\n",
        "    optimizer = opt_func(model.parameters(), lr)\n",
        "    history = [] # for recording epoch-wise results\n",
        "\n",
        "    for epoch in range(epochs):\n",
        "\n",
        "        # Training Phase\n",
        "        for batch in train_loader:\n",
        "            loss = model.training_step(batch)\n",
        "            loss.backward()\n",
        "            optimizer.step()\n",
        "            optimizer.zero_grad()\n",
        "\n",
        "        # Validation phase\n",
        "        result = evaluate(model, val_loader)\n",
        "        model.epoch_end(epoch, result)\n",
        "        history.append(result)\n",
        "\n",
        "    return history"
      ],
      "metadata": {
        "id": "QxExD7RJSJZO"
      },
      "execution_count": 199,
      "outputs": []
    },
    {
      "cell_type": "code",
      "source": [
        "def evaluate(model, val_loader):\n",
        "    outputs = [model.validation_step(batch) for batch in val_loader]\n",
        "    return model.validation_epoch_end(outputs)"
      ],
      "metadata": {
        "id": "FWdnNHMibPuU"
      },
      "execution_count": 200,
      "outputs": []
    },
    {
      "cell_type": "code",
      "source": [
        "class MnistModel(nn.Module):\n",
        "    def __init__(self):\n",
        "        super().__init__()\n",
        "        self.linear = nn.Linear(input_size, num_classes)\n",
        "\n",
        "    def forward(self, xb):\n",
        "        xb = xb.reshape(-1, 784)\n",
        "        out = self.linear(xb)\n",
        "        return out\n",
        "\n",
        "    def training_step(self, batch):\n",
        "        images, labels = batch\n",
        "        out = self(images)                  # Generate predictions\n",
        "        loss = F.cross_entropy(out, labels) # Calculate loss\n",
        "        return loss\n",
        "\n",
        "    def validation_step(self, batch):\n",
        "        images, labels = batch\n",
        "        out = self(images)                    # Generate predictions\n",
        "        loss = F.cross_entropy(out, labels)   # Calculate loss\n",
        "        acc = accuracy(out, labels)           # Calculate accuracy\n",
        "        return {'val_loss': loss, 'val_acc': acc}\n",
        "\n",
        "    def validation_epoch_end(self, outputs):\n",
        "        batch_losses = [x['val_loss'] for x in outputs]\n",
        "        epoch_loss = torch.stack(batch_losses).mean()   # Combine losses\n",
        "        batch_accs = [x['val_acc'] for x in outputs]\n",
        "        epoch_acc = torch.stack(batch_accs).mean()      # Combine accuracies\n",
        "        return {'val_loss': epoch_loss.item(), 'val_acc': epoch_acc.item()}\n",
        "\n",
        "    def epoch_end(self, epoch, result):\n",
        "        print(\"Epoch [{}], val_loss: {:.4f}, val_acc: {:.4f}\".format(epoch, result['val_loss'], result['val_acc']))\n",
        "\n",
        "model = MnistModel()"
      ],
      "metadata": {
        "id": "1kqZW47ebS1S"
      },
      "execution_count": 201,
      "outputs": []
    },
    {
      "cell_type": "code",
      "source": [
        "result0 = evaluate(model, val_loader)\n",
        "result0"
      ],
      "metadata": {
        "colab": {
          "base_uri": "https://localhost:8080/"
        },
        "id": "WbsvSfyUbZcB",
        "outputId": "3b693414-848c-4564-fd3c-1d986464081a"
      },
      "execution_count": 202,
      "outputs": [
        {
          "output_type": "execute_result",
          "data": {
            "text/plain": [
              "{'val_loss': 2.2910475730895996, 'val_acc': 0.16782040894031525}"
            ]
          },
          "metadata": {},
          "execution_count": 202
        }
      ]
    },
    {
      "cell_type": "code",
      "source": [
        "history1 = fit(5, 0.001, model, train_loader, val_loader)"
      ],
      "metadata": {
        "colab": {
          "base_uri": "https://localhost:8080/"
        },
        "id": "H1KIhECzbdDw",
        "outputId": "9a0b2884-91cd-459b-83e5-6ff6f56e9ef6"
      },
      "execution_count": 203,
      "outputs": [
        {
          "output_type": "stream",
          "name": "stdout",
          "text": [
            "Epoch [0], val_loss: 1.9363, val_acc: 0.6037\n",
            "Epoch [1], val_loss: 1.6737, val_acc: 0.7060\n",
            "Epoch [2], val_loss: 1.4774, val_acc: 0.7470\n",
            "Epoch [3], val_loss: 1.3287, val_acc: 0.7714\n",
            "Epoch [4], val_loss: 1.2142, val_acc: 0.7863\n"
          ]
        }
      ]
    },
    {
      "cell_type": "code",
      "source": [
        "history2 = fit(5, 0.001, model, train_loader, val_loader)"
      ],
      "metadata": {
        "colab": {
          "base_uri": "https://localhost:8080/"
        },
        "id": "xuK-QInobfMm",
        "outputId": "02552559-9f45-4d81-a343-21fce2cca7fe"
      },
      "execution_count": 204,
      "outputs": [
        {
          "output_type": "stream",
          "name": "stdout",
          "text": [
            "Epoch [0], val_loss: 1.1240, val_acc: 0.7953\n",
            "Epoch [1], val_loss: 1.0514, val_acc: 0.8070\n",
            "Epoch [2], val_loss: 0.9920, val_acc: 0.8134\n",
            "Epoch [3], val_loss: 0.9424, val_acc: 0.8188\n",
            "Epoch [4], val_loss: 0.9004, val_acc: 0.8242\n"
          ]
        }
      ]
    },
    {
      "cell_type": "code",
      "source": [
        "history3 = fit(5, 0.001, model, train_loader, val_loader)"
      ],
      "metadata": {
        "colab": {
          "base_uri": "https://localhost:8080/"
        },
        "id": "JAhfrfmHbhKU",
        "outputId": "2db1ff14-9d3f-42ef-a42d-7dc02ed90ed9"
      },
      "execution_count": 205,
      "outputs": [
        {
          "output_type": "stream",
          "name": "stdout",
          "text": [
            "Epoch [0], val_loss: 0.8644, val_acc: 0.8273\n",
            "Epoch [1], val_loss: 0.8332, val_acc: 0.8322\n",
            "Epoch [2], val_loss: 0.8058, val_acc: 0.8347\n",
            "Epoch [3], val_loss: 0.7816, val_acc: 0.8361\n",
            "Epoch [4], val_loss: 0.7601, val_acc: 0.8390\n"
          ]
        }
      ]
    },
    {
      "cell_type": "code",
      "source": [
        "history4 = fit(5, 0.001, model, train_loader, val_loader)"
      ],
      "metadata": {
        "colab": {
          "base_uri": "https://localhost:8080/"
        },
        "id": "HuIE1Xd8bj9Z",
        "outputId": "530f5813-67af-43e3-fb02-a156a03b9d49"
      },
      "execution_count": 206,
      "outputs": [
        {
          "output_type": "stream",
          "name": "stdout",
          "text": [
            "Epoch [0], val_loss: 0.7407, val_acc: 0.8414\n",
            "Epoch [1], val_loss: 0.7233, val_acc: 0.8442\n",
            "Epoch [2], val_loss: 0.7074, val_acc: 0.8464\n",
            "Epoch [3], val_loss: 0.6929, val_acc: 0.8488\n",
            "Epoch [4], val_loss: 0.6796, val_acc: 0.8513\n"
          ]
        }
      ]
    },
    {
      "cell_type": "code",
      "source": [
        "history = [result0] + history1 + history2 + history3 + history4\n",
        "accuracies = [result['val_acc'] for result in history]\n",
        "plt.plot(accuracies, '-x')\n",
        "plt.xlabel('epoch')\n",
        "plt.ylabel('accuracy')\n",
        "plt.title('Accuracy vs. No. of epochs');"
      ],
      "metadata": {
        "colab": {
          "base_uri": "https://localhost:8080/",
          "height": 472
        },
        "id": "Zz95YkiAbl9q",
        "outputId": "c9ad1deb-c63d-47fa-e7dd-21c5e5850fd3"
      },
      "execution_count": 207,
      "outputs": [
        {
          "output_type": "display_data",
          "data": {
            "text/plain": [
              "<Figure size 640x480 with 1 Axes>"
            ],
            "image/png": "[encoded data removed]"
          },
          "metadata": {}
        }
      ]
    },
    {
      "cell_type": "markdown",
      "source": [
        "## Testing with Individual Images"
      ],
      "metadata": {
        "id": "GTfPlzoAbqLI"
      }
    },
    {
      "cell_type": "code",
      "source": [
        "# Define test dataset\n",
        "test_dataset = MNIST(root='data/',\n",
        "                     train=False,\n",
        "                     transform=transforms.ToTensor())"
      ],
      "metadata": {
        "id": "b3wH_89Pbz7t"
      },
      "execution_count": 208,
      "outputs": []
    },
    {
      "cell_type": "code",
      "source": [
        "img, label = test_dataset[0]\n",
        "plt.imshow(img[0], cmap='gray')\n",
        "print('Shape:', img.shape)\n",
        "print('Label:', label)"
      ],
      "metadata": {
        "colab": {
          "base_uri": "https://localhost:8080/",
          "height": 465
        },
        "id": "kk7-um2db3NF",
        "outputId": "1bc3fd75-8b47-4d48-8dde-65f5fb1ff8f7"
      },
      "execution_count": 209,
      "outputs": [
        {
          "output_type": "stream",
          "name": "stdout",
          "text": [
            "Shape: torch.Size([1, 28, 28])\n",
            "Label: 7\n"
          ]
        },
        {
          "output_type": "display_data",
          "data": {
            "text/plain": [
              "<Figure size 640x480 with 1 Axes>"
            ],
            "image/png": "[encoded data removed]"
          },
          "metadata": {}
        }
      ]
    },
    {
      "cell_type": "code",
      "source": [
        "def predict_image(img, model):\n",
        "    xb = img.unsqueeze(0)\n",
        "    yb = model(xb)\n",
        "    _, preds = torch.max(yb, dim=1)\n",
        "    return preds[0].item()"
      ],
      "metadata": {
        "id": "TSaNeB0JcK8e"
      },
      "execution_count": 210,
      "outputs": []
    },
    {
      "cell_type": "code",
      "source": [
        "img, label = test_dataset[44]\n",
        "plt.imshow(img[0], cmap='gray')\n",
        "print('Label:', label, ', Predicted:', predict_image(img, model))"
      ],
      "metadata": {
        "colab": {
          "base_uri": "https://localhost:8080/",
          "height": 447
        },
        "id": "RJO5Sks2cRiJ",
        "outputId": "8b22b688-97e2-410f-8620-a2dd2890b833"
      },
      "execution_count": 211,
      "outputs": [
        {
          "output_type": "stream",
          "name": "stdout",
          "text": [
            "Label: 3 , Predicted: 3\n"
          ]
        },
        {
          "output_type": "display_data",
          "data": {
            "text/plain": [
              "<Figure size 640x480 with 1 Axes>"
            ],
            "image/png": "[encoded data removed]"
          },
          "metadata": {}
        }
      ]
    },
    {
      "cell_type": "code",
      "source": [
        "img, label = test_dataset[11]\n",
        "plt.imshow(img[0], cmap='gray')\n",
        "print('Label:', label, ', Predicted:', predict_image(img, model))"
      ],
      "metadata": {
        "colab": {
          "base_uri": "https://localhost:8080/",
          "height": 447
        },
        "id": "F2rJMWJOcUiD",
        "outputId": "bb24ca81-72c6-4dd5-d3ec-5da87b28cc1e"
      },
      "execution_count": 212,
      "outputs": [
        {
          "output_type": "stream",
          "name": "stdout",
          "text": [
            "Label: 6 , Predicted: 6\n"
          ]
        },
        {
          "output_type": "display_data",
          "data": {
            "text/plain": [
              "<Figure size 640x480 with 1 Axes>"
            ],
            "image/png": "[encoded data removed]"
          },
          "metadata": {}
        }
      ]
    },
    {
      "cell_type": "code",
      "source": [
        "img, label = test_dataset[124]\n",
        "plt.imshow(img[0], cmap='gray')\n",
        "print('Label:', label, ', Predicted:', predict_image(img, model))"
      ],
      "metadata": {
        "colab": {
          "base_uri": "https://localhost:8080/",
          "height": 447
        },
        "id": "w4aIPgMfceCg",
        "outputId": "730317ce-1eda-430b-b930-971606cda033"
      },
      "execution_count": 213,
      "outputs": [
        {
          "output_type": "stream",
          "name": "stdout",
          "text": [
            "Label: 7 , Predicted: 4\n"
          ]
        },
        {
          "output_type": "display_data",
          "data": {
            "text/plain": [
              "<Figure size 640x480 with 1 Axes>"
            ],
            "image/png": "[encoded data removed]"
          },
          "metadata": {}
        }
      ]
    },
    {
      "cell_type": "code",
      "source": [
        "test_loader = DataLoader(test_dataset, batch_size=256)\n",
        "result = evaluate(model, test_loader)\n",
        "result"
      ],
      "metadata": {
        "colab": {
          "base_uri": "https://localhost:8080/"
        },
        "id": "65zchwWscnBU",
        "outputId": "f720a126-7a32-4e1c-dc7f-a6d4e085bb2c"
      },
      "execution_count": 214,
      "outputs": [
        {
          "output_type": "execute_result",
          "data": {
            "text/plain": [
              "{'val_loss': 0.6425623297691345, 'val_acc': 0.85888671875}"
            ]
          },
          "metadata": {},
          "execution_count": 214
        }
      ]
    },
    {
      "cell_type": "markdown",
      "source": [
        "## Saving and Loading the Model\n"
      ],
      "metadata": {
        "id": "WpsfSvzkc35f"
      }
    },
    {
      "cell_type": "code",
      "source": [
        "torch.save(model.state_dict(), 'mnist-model.pth')"
      ],
      "metadata": {
        "id": "G1d63jAOc1RR"
      },
      "execution_count": 215,
      "outputs": []
    },
    {
      "cell_type": "code",
      "source": [
        "model.state_dict()"
      ],
      "metadata": {
        "colab": {
          "base_uri": "https://localhost:8080/"
        },
        "id": "kXyb4vWfdDEw",
        "outputId": "71902545-13ae-4806-dff6-c75cf60745a3"
      },
      "execution_count": 216,
      "outputs": [
        {
          "output_type": "execute_result",
          "data": {
            "text/plain": [
              "OrderedDict([('linear.weight',\n",
              "              tensor([[ 0.0281, -0.0143,  0.0037,  ...,  0.0040, -0.0152,  0.0169],\n",
              "                      [-0.0038, -0.0328,  0.0319,  ..., -0.0190, -0.0112, -0.0351],\n",
              "                      [ 0.0056,  0.0182, -0.0016,  ..., -0.0250, -0.0021,  0.0137],\n",
              "                      ...,\n",
              "                      [ 0.0111, -0.0150, -0.0035,  ...,  0.0197, -0.0055, -0.0066],\n",
              "                      [ 0.0347,  0.0044,  0.0143,  ..., -0.0124, -0.0041,  0.0032],\n",
              "                      [-0.0148,  0.0096, -0.0296,  ..., -0.0094, -0.0242, -0.0082]])),\n",
              "             ('linear.bias',\n",
              "              tensor([-0.0152,  0.0998, -0.0542, -0.0509,  0.0009,  0.0318,  0.0161,  0.0718,\n",
              "                      -0.0572,  0.0030]))])"
            ]
          },
          "metadata": {},
          "execution_count": 216
        }
      ]
    },
    {
      "cell_type": "code",
      "source": [
        "model2 = MnistModel()"
      ],
      "metadata": {
        "id": "8546Ghx1dE49"
      },
      "execution_count": 217,
      "outputs": []
    },
    {
      "cell_type": "code",
      "source": [
        "model2.state_dict()"
      ],
      "metadata": {
        "colab": {
          "base_uri": "https://localhost:8080/"
        },
        "id": "lwUvcpc5dTIp",
        "outputId": "12181c32-8bf0-4499-d582-59e0c1c3230e"
      },
      "execution_count": 218,
      "outputs": [
        {
          "output_type": "execute_result",
          "data": {
            "text/plain": [
              "OrderedDict([('linear.weight',\n",
              "              tensor([[ 1.4388e-02,  3.5237e-02,  5.9239e-03,  ..., -1.8340e-02,\n",
              "                       -2.1041e-02,  2.6971e-02],\n",
              "                      [-2.7222e-02,  2.7803e-02, -5.5654e-05,  ..., -8.5334e-03,\n",
              "                        1.7937e-02,  2.7063e-02],\n",
              "                      [-1.6248e-02,  2.3574e-02,  9.4878e-03,  ...,  1.0742e-02,\n",
              "                       -1.5275e-02,  2.3074e-02],\n",
              "                      ...,\n",
              "                      [-1.6135e-02,  1.7358e-02, -1.2234e-02,  ..., -1.2848e-02,\n",
              "                       -4.1087e-03, -3.4514e-02],\n",
              "                      [ 3.0545e-02, -1.7415e-02, -6.3492e-03,  ..., -2.0264e-02,\n",
              "                       -8.9336e-03,  1.3030e-02],\n",
              "                      [-2.0865e-02,  1.0325e-02,  1.8254e-02,  ..., -1.5605e-02,\n",
              "                       -5.5930e-03,  1.0761e-02]])),\n",
              "             ('linear.bias',\n",
              "              tensor([ 0.0168,  0.0350, -0.0270,  0.0332, -0.0321,  0.0195, -0.0171, -0.0275,\n",
              "                       0.0067, -0.0017]))])"
            ]
          },
          "metadata": {},
          "execution_count": 218
        }
      ]
    },
    {
      "cell_type": "code",
      "source": [
        "evaluate(model2, test_loader)"
      ],
      "metadata": {
        "colab": {
          "base_uri": "https://localhost:8080/"
        },
        "id": "UM0rzrs5dVg6",
        "outputId": "04bcbdb3-564b-461d-e6d6-5bd7b24697f6"
      },
      "execution_count": 219,
      "outputs": [
        {
          "output_type": "execute_result",
          "data": {
            "text/plain": [
              "{'val_loss': 2.311445713043213, 'val_acc': 0.10927734524011612}"
            ]
          },
          "metadata": {},
          "execution_count": 219
        }
      ]
    },
    {
      "cell_type": "code",
      "source": [
        "model2.load_state_dict(torch.load('mnist-model.pth'))\n",
        "model2.state_dict()"
      ],
      "metadata": {
        "colab": {
          "base_uri": "https://localhost:8080/"
        },
        "id": "3fuu2W6ndX39",
        "outputId": "0f4b3009-9a76-4402-acc7-8a6d5594fc29"
      },
      "execution_count": 220,
      "outputs": [
        {
          "output_type": "execute_result",
          "data": {
            "text/plain": [
              "OrderedDict([('linear.weight',\n",
              "              tensor([[ 0.0281, -0.0143,  0.0037,  ...,  0.0040, -0.0152,  0.0169],\n",
              "                      [-0.0038, -0.0328,  0.0319,  ..., -0.0190, -0.0112, -0.0351],\n",
              "                      [ 0.0056,  0.0182, -0.0016,  ..., -0.0250, -0.0021,  0.0137],\n",
              "                      ...,\n",
              "                      [ 0.0111, -0.0150, -0.0035,  ...,  0.0197, -0.0055, -0.0066],\n",
              "                      [ 0.0347,  0.0044,  0.0143,  ..., -0.0124, -0.0041,  0.0032],\n",
              "                      [-0.0148,  0.0096, -0.0296,  ..., -0.0094, -0.0242, -0.0082]])),\n",
              "             ('linear.bias',\n",
              "              tensor([-0.0152,  0.0998, -0.0542, -0.0509,  0.0009,  0.0318,  0.0161,  0.0718,\n",
              "                      -0.0572,  0.0030]))])"
            ]
          },
          "metadata": {},
          "execution_count": 220
        }
      ]
    },
    {
      "cell_type": "code",
      "source": [
        "## Verifying the loaded Model\n",
        "\n",
        "test_loader = DataLoader(test_dataset, batch_size=256)\n",
        "result = evaluate(model2, test_loader)\n",
        "result"
      ],
      "metadata": {
        "colab": {
          "base_uri": "https://localhost:8080/"
        },
        "id": "I-Z1kdledbgC",
        "outputId": "56c4cbc0-04eb-4a72-9b78-46f5d5a25afc"
      },
      "execution_count": 221,
      "outputs": [
        {
          "output_type": "execute_result",
          "data": {
            "text/plain": [
              "{'val_loss': 0.6425623297691345, 'val_acc': 0.85888671875}"
            ]
          },
          "metadata": {},
          "execution_count": 221
        }
      ]
    },
    {
      "cell_type": "markdown",
      "source": [
        "## The End"
      ],
      "metadata": {
        "id": "9PLZe1-whzRs"
      }
    }
  ]
}